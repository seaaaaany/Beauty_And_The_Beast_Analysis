{
 "cells": [
  {
   "cell_type": "code",
   "execution_count": 8,
   "metadata": {},
   "outputs": [],
   "source": [
    "import pandas as pd\n",
    "import numpy as np\n",
    "import matplotlib.pyplot as plt\n",
    "import seaborn as sns"
   ]
  },
  {
   "cell_type": "code",
   "execution_count": 9,
   "metadata": {},
   "outputs": [],
   "source": [
    "# CSV path\n",
    "b_2017_path = \"dataset/b_2017.xlsx\"\n",
    "b_1991_path = \"dataset/b_1991.xlsx\"\n",
    "\n",
    "# Load CSV file\n",
    "b_2017 = pd.read_excel(b_2017_path, encoding=\"utf-8\")\n",
    "b_1991 = pd.read_excel(b_1991_path, encoding='utf-8')"
   ]
  },
  {
   "cell_type": "code",
   "execution_count": 10,
   "metadata": {},
   "outputs": [
    {
     "data": {
      "text/html": [
       "<div>\n",
       "<style scoped>\n",
       "    .dataframe tbody tr th:only-of-type {\n",
       "        vertical-align: middle;\n",
       "    }\n",
       "\n",
       "    .dataframe tbody tr th {\n",
       "        vertical-align: top;\n",
       "    }\n",
       "\n",
       "    .dataframe thead th {\n",
       "        text-align: right;\n",
       "    }\n",
       "</style>\n",
       "<table border=\"1\" class=\"dataframe\">\n",
       "  <thead>\n",
       "    <tr style=\"text-align: right;\">\n",
       "      <th></th>\n",
       "      <th>Date</th>\n",
       "      <th>Rank</th>\n",
       "      <th>Weekend Gross</th>\n",
       "      <th>% Change</th>\n",
       "      <th>Theaters</th>\n",
       "      <th>Change</th>\n",
       "      <th>Avg</th>\n",
       "      <th>Gross-to-Date</th>\n",
       "      <th>Week</th>\n",
       "    </tr>\n",
       "  </thead>\n",
       "  <tbody>\n",
       "    <tr>\n",
       "      <th>0</th>\n",
       "      <td>Mar 17–19</td>\n",
       "      <td>1</td>\n",
       "      <td>174750616</td>\n",
       "      <td>-</td>\n",
       "      <td>4210</td>\n",
       "      <td>-</td>\n",
       "      <td>41508</td>\n",
       "      <td>174750616</td>\n",
       "      <td>1</td>\n",
       "    </tr>\n",
       "    <tr>\n",
       "      <th>1</th>\n",
       "      <td>Mar 24–26</td>\n",
       "      <td>1</td>\n",
       "      <td>90426717</td>\n",
       "      <td>-0.483</td>\n",
       "      <td>4210</td>\n",
       "      <td>-</td>\n",
       "      <td>21479</td>\n",
       "      <td>319032604</td>\n",
       "      <td>2</td>\n",
       "    </tr>\n",
       "    <tr>\n",
       "      <th>2</th>\n",
       "      <td>Mar 31–Apr 2</td>\n",
       "      <td>2</td>\n",
       "      <td>45420743</td>\n",
       "      <td>-0.498</td>\n",
       "      <td>4210</td>\n",
       "      <td>-</td>\n",
       "      <td>10789</td>\n",
       "      <td>393337585</td>\n",
       "      <td>3</td>\n",
       "    </tr>\n",
       "    <tr>\n",
       "      <th>3</th>\n",
       "      <td>Apr 7–9</td>\n",
       "      <td>2</td>\n",
       "      <td>23652605</td>\n",
       "      <td>-0.479</td>\n",
       "      <td>3969</td>\n",
       "      <td>-241</td>\n",
       "      <td>5959</td>\n",
       "      <td>430946639</td>\n",
       "      <td>4</td>\n",
       "    </tr>\n",
       "    <tr>\n",
       "      <th>4</th>\n",
       "      <td>Apr 14–16</td>\n",
       "      <td>3</td>\n",
       "      <td>13705122</td>\n",
       "      <td>-0.421</td>\n",
       "      <td>3592</td>\n",
       "      <td>-377</td>\n",
       "      <td>3815</td>\n",
       "      <td>454720873</td>\n",
       "      <td>5</td>\n",
       "    </tr>\n",
       "  </tbody>\n",
       "</table>\n",
       "</div>"
      ],
      "text/plain": [
       "           Date  Rank  Weekend Gross % Change  Theaters Change    Avg  \\\n",
       "0     Mar 17–19     1      174750616        -      4210      -  41508   \n",
       "1     Mar 24–26     1       90426717   -0.483      4210      -  21479   \n",
       "2  Mar 31–Apr 2     2       45420743   -0.498      4210      -  10789   \n",
       "3       Apr 7–9     2       23652605   -0.479      3969   -241   5959   \n",
       "4     Apr 14–16     3       13705122   -0.421      3592   -377   3815   \n",
       "\n",
       "   Gross-to-Date  Week  \n",
       "0      174750616     1  \n",
       "1      319032604     2  \n",
       "2      393337585     3  \n",
       "3      430946639     4  \n",
       "4      454720873     5  "
      ]
     },
     "execution_count": 10,
     "metadata": {},
     "output_type": "execute_result"
    }
   ],
   "source": [
    "b_2017.head()"
   ]
  },
  {
   "cell_type": "code",
   "execution_count": 11,
   "metadata": {},
   "outputs": [
    {
     "data": {
      "text/html": [
       "<div>\n",
       "<style scoped>\n",
       "    .dataframe tbody tr th:only-of-type {\n",
       "        vertical-align: middle;\n",
       "    }\n",
       "\n",
       "    .dataframe tbody tr th {\n",
       "        vertical-align: top;\n",
       "    }\n",
       "\n",
       "    .dataframe thead th {\n",
       "        text-align: right;\n",
       "    }\n",
       "</style>\n",
       "<table border=\"1\" class=\"dataframe\">\n",
       "  <thead>\n",
       "    <tr style=\"text-align: right;\">\n",
       "      <th></th>\n",
       "      <th>Date</th>\n",
       "      <th>Rank</th>\n",
       "      <th>Weekend Gross</th>\n",
       "      <th>% Change</th>\n",
       "      <th>Theaters</th>\n",
       "      <th>Change</th>\n",
       "      <th>Avg</th>\n",
       "      <th>Gross-to-Date</th>\n",
       "      <th>Week</th>\n",
       "    </tr>\n",
       "  </thead>\n",
       "  <tbody>\n",
       "    <tr>\n",
       "      <th>1</th>\n",
       "      <td>Nov 22–24</td>\n",
       "      <td>3</td>\n",
       "      <td>9624149</td>\n",
       "      <td>58.36</td>\n",
       "      <td>977</td>\n",
       "      <td>975</td>\n",
       "      <td>9850</td>\n",
       "      <td>9917522</td>\n",
       "      <td>2</td>\n",
       "    </tr>\n",
       "    <tr>\n",
       "      <th>2</th>\n",
       "      <td>Nov 29–Dec 1</td>\n",
       "      <td>3</td>\n",
       "      <td>12239650</td>\n",
       "      <td>0.272</td>\n",
       "      <td>1118</td>\n",
       "      <td>141</td>\n",
       "      <td>10947</td>\n",
       "      <td>26476215</td>\n",
       "      <td>3</td>\n",
       "    </tr>\n",
       "    <tr>\n",
       "      <th>3</th>\n",
       "      <td>Dec 6–8</td>\n",
       "      <td>4</td>\n",
       "      <td>5969372</td>\n",
       "      <td>-0.512</td>\n",
       "      <td>1118</td>\n",
       "      <td>-</td>\n",
       "      <td>5339</td>\n",
       "      <td>34112416</td>\n",
       "      <td>4</td>\n",
       "    </tr>\n",
       "    <tr>\n",
       "      <th>4</th>\n",
       "      <td>Dec 13–15</td>\n",
       "      <td>5</td>\n",
       "      <td>4575124</td>\n",
       "      <td>-0.234</td>\n",
       "      <td>1123</td>\n",
       "      <td>5</td>\n",
       "      <td>4074</td>\n",
       "      <td>39967102</td>\n",
       "      <td>5</td>\n",
       "    </tr>\n",
       "    <tr>\n",
       "      <th>5</th>\n",
       "      <td>Dec 20–22</td>\n",
       "      <td>6</td>\n",
       "      <td>4863315</td>\n",
       "      <td>0.063</td>\n",
       "      <td>1925</td>\n",
       "      <td>802</td>\n",
       "      <td>2526</td>\n",
       "      <td>46047138</td>\n",
       "      <td>6</td>\n",
       "    </tr>\n",
       "  </tbody>\n",
       "</table>\n",
       "</div>"
      ],
      "text/plain": [
       "           Date Rank  Weekend Gross % Change  Theaters Change    Avg  \\\n",
       "1     Nov 22–24    3        9624149    58.36       977    975   9850   \n",
       "2  Nov 29–Dec 1    3       12239650    0.272      1118    141  10947   \n",
       "3       Dec 6–8    4        5969372   -0.512      1118      -   5339   \n",
       "4     Dec 13–15    5        4575124   -0.234      1123      5   4074   \n",
       "5     Dec 20–22    6        4863315    0.063      1925    802   2526   \n",
       "\n",
       "  Gross-to-Date  Week  \n",
       "1       9917522     2  \n",
       "2      26476215     3  \n",
       "3      34112416     4  \n",
       "4      39967102     5  \n",
       "5      46047138     6  "
      ]
     },
     "execution_count": 11,
     "metadata": {},
     "output_type": "execute_result"
    }
   ],
   "source": [
    "# During the Nov 15-17, it only had 2 theaters open, the data is not comparable.\n",
    "# Delete first row\n",
    "b_1991 = b_1991.drop([0])\n",
    "b_1991.head()"
   ]
  },
  {
   "cell_type": "code",
   "execution_count": 12,
   "metadata": {},
   "outputs": [
    {
     "data": {
      "image/png": "[encoded data removed]",
      "text/plain": [
       "<Figure size 1080x504 with 1 Axes>"
      ]
     },
     "metadata": {},
     "output_type": "display_data"
    }
   ],
   "source": [
    "sns.set_style(\"whitegrid\")\n",
    "plt.figure(figsize=(15,7))\n",
    "sns.barplot(x=\"Week\", y=\"Weekend Gross\", data=b_2017)\n",
    "\n",
    "plt.title(\"Weekend Gross (2017)\")\n",
    "# Save the figure\n",
    "plt.savefig(\"result_img/Weekend_Gross_2017.png\")"
   ]
  },
  {
   "cell_type": "code",
   "execution_count": null,
   "metadata": {},
   "outputs": [],
   "source": []
  },
  {
   "cell_type": "code",
   "execution_count": 13,
   "metadata": {},
   "outputs": [
    {
     "data": {
      "image/png": "[encoded data removed]",
      "text/plain": [
       "<Figure size 1080x504 with 1 Axes>"
      ]
     },
     "metadata": {},
     "output_type": "display_data"
    }
   ],
   "source": [
    "sns.set_style(\"whitegrid\")\n",
    "plt.figure(figsize=(15,7))\n",
    "sns.barplot(x=\"Week\", y=\"Weekend Gross\", data=b_1991)\n",
    "\n",
    "plt.title(\"Weekend Gross (1991)\")\n",
    "# Save the figure\n",
    "plt.savefig(\"result_img/Weekend_Gross_1991.png\")"
   ]
  },
  {
   "cell_type": "code",
   "execution_count": null,
   "metadata": {},
   "outputs": [],
   "source": []
  }
 ],
 "metadata": {
  "kernelspec": {
   "display_name": "Python 3",
   "language": "python",
   "name": "python3"
  },
  "language_info": {
   "codemirror_mode": {
    "name": "ipython",
    "version": 3
   },
   "file_extension": ".py",
   "mimetype": "text/x-python",
   "name": "python",
   "nbconvert_exporter": "python",
   "pygments_lexer": "ipython3",
   "version": "3.6.5"
  }
 },
 "nbformat": 4,
 "nbformat_minor": 2
}
