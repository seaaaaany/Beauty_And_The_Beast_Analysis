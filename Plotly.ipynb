{
 "cells": [
  {
   "cell_type": "code",
   "execution_count": 1,
   "metadata": {},
   "outputs": [],
   "source": [
    "import plotly.plotly as py\n",
    "import plotly.graph_objs as go\n",
    "import plotly.figure_factory as FF\n",
    "\n",
    "import numpy as np\n",
    "import pandas as pd"
   ]
  },
  {
   "cell_type": "code",
   "execution_count": 2,
   "metadata": {},
   "outputs": [],
   "source": [
    "# Load 1991 CSV file\n",
    "df = pd.read_csv('Selected_Movie_1991_Top_5_Film.csv')\n",
    "data_table = FF.create_table(df.head())\n",
    "\n",
    "# Load 2017 CSV file\n",
    "df2 = pd.read_csv('Selected_Movie_2017_Top_5_Film.csv')\n",
    "data_table2 = FF.create_table(df.head())"
   ]
  },
  {
   "cell_type": "code",
   "execution_count": 3,
   "metadata": {
    "scrolled": true
   },
   "outputs": [
    {
     "data": {
      "text/html": [
       "<iframe id=\"igraph\" scrolling=\"no\" style=\"border:none;\" seamless=\"seamless\" src=\"https://plot.ly/~zhan656/43.embed\" height=\"525px\" width=\"100%\"></iframe>"
      ],
      "text/plain": [
       "<plotly.tools.PlotlyDisplay object>"
      ]
     },
     "execution_count": 3,
     "metadata": {},
     "output_type": "execute_result"
    }
   ],
   "source": [
    "# Define bubble size\n",
    "size = [170.70, 110.33, 97.24, 87.16, 82.69]\n",
    "\n",
    "# Set up the trace\n",
    "trace1 = go.Scatter(x=df['Title'], \n",
    "                    y=df['Opening'], \n",
    "                    mode='lines+markers',\n",
    "                    name='Opening')\n",
    "\n",
    "trace2 = go.Scatter(x=df['Title'], \n",
    "                    y=df['Total Gross'], \n",
    "                    mode='markers',\n",
    "                    name='Total Gross',\n",
    "                    marker=dict(\n",
    "                            size=size,\n",
    "                            sizemode='area',\n",
    "                            sizeref=2.*max(size)/(40.**2),\n",
    "                            sizemin=4))\n",
    "\n",
    "# Set up layout\n",
    "layout = go.Layout(title='Total Gross vs. Opening',\n",
    "                   yaxis = dict(title = 'Amount($)'),\n",
    "                   plot_bgcolor='rgb(230, 230,230)')\n",
    "\n",
    "fig = go.Figure(data = [trace1, trace2], layout=layout)\n",
    "\n",
    "# Plot data in the notebook\n",
    "py.iplot(fig, filename = 'Selected_Movie_1991_Top_5_Film.csv')"
   ]
  },
  {
   "cell_type": "code",
   "execution_count": null,
   "metadata": {},
   "outputs": [],
   "source": []
  }
 ],
 "metadata": {
  "kernelspec": {
   "display_name": "Python 3",
   "language": "python",
   "name": "python3"
  },
  "language_info": {
   "codemirror_mode": {
    "name": "ipython",
    "version": 3
   },
   "file_extension": ".py",
   "mimetype": "text/x-python",
   "name": "python",
   "nbconvert_exporter": "python",
   "pygments_lexer": "ipython3",
   "version": "3.6.5"
  }
 },
 "nbformat": 4,
 "nbformat_minor": 2
}
